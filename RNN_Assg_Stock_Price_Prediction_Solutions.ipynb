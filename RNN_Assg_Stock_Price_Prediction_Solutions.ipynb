{
 "cells": [
  {
   "cell_type": "markdown",
   "id": "98b74a9c",
   "metadata": {},
   "source": [
    "# Stock Price Prediction Using RNNs — **Solutions**"
   ]
  },
  {
   "cell_type": "markdown",
   "id": "87554d76",
   "metadata": {},
   "source": [
    "This notebook contains **filled answers** for the starter assignment. \n",
    "We will:\n",
    "\n",
    "1. Load and aggregate AMZN, GOOGL, IBM, MSFT data\n",
    "\n",
    "2. Analyze and visualize closing prices and volumes\n",
    "\n",
    "3. Process data into **sliding windows** suitable for RNNs\n",
    "\n",
    "4. Build a simple baseline model (linear regression on windows)\n",
    "\n",
    "5. Provide an RNN (Keras LSTM) solution **template** you can run if TensorFlow is available\n",
    "\n",
    "6. Evaluate with MAE/MAPE/RMSE and discuss results\n"
   ]
  },
  {
   "cell_type": "code",
   "execution_count": null,
   "id": "a83eb056",
   "metadata": {},
   "outputs": [],
   "source": [
    "import pandas as pd\n",
    "import numpy as np\n",
    "import matplotlib.pyplot as plt\n",
    "from pathlib import Path\n",
    "\n",
    "plt.rcParams['figure.figsize'] = (10,4)\n",
    "\n",
    "data_dir = Path('/mnt/data')\n",
    "\n",
    "files = {\n",
    "    'AMZN': data_dir/'AMZN_stocks_data.csv',\n",
    "    'GOOGL': data_dir/'GOOGL_stocks_data.csv',\n",
    "    'IBM': data_dir/'IBM_stocks_data.csv',\n",
    "    'MSFT': data_dir/'MSFT_stocks_data.csv',\n",
    "}\n",
    "\n",
    "for k,v in files.items():\n",
    "    assert v.exists(), f\"Missing file for {k}: {v}\"\n",
    "print('Files found:', list(files.keys()))\n"
   ]
  },
  {
   "cell_type": "markdown",
   "id": "be7cde15",
   "metadata": {},
   "source": [
    "## 1. Data Loading and Preparation"
   ]
  },
  {
   "cell_type": "code",
   "execution_count": null,
   "id": "2e54552a",
   "metadata": {},
   "outputs": [],
   "source": [
    "def load_one(symbol, path):\n",
    "    df = pd.read_csv(path)\n",
    "    # Standardize expected columns\n",
    "    # Common columns: Date, Open, High, Low, Close, Adj Close, Volume\n",
    "    # Ensure datetime and sort\n",
    "    if 'Date' in df.columns:\n",
    "        df['Date'] = pd.to_datetime(df['Date'])\n",
    "        df = df.sort_values('Date')\n",
    "    else:\n",
    "        raise ValueError(f\"'Date' column missing in {symbol}\")\n",
    "    # Ensure expected numeric columns exist\n",
    "    expect = ['Open','High','Low','Close','Adj Close','Volume']\n",
    "    for c in expect:\n",
    "        if c not in df.columns:\n",
    "            # create if missing\n",
    "            df[c] = np.nan\n",
    "    df['Symbol'] = symbol\n",
    "    return df[['Date','Symbol','Open','High','Low','Close','Adj Close','Volume']]\n",
    "\n",
    "dfs = [load_one(sym, path) for sym, path in files.items()]\n",
    "raw = pd.concat(dfs, ignore_index=True)\n",
    "raw.reset_index(drop=True, inplace=True)\n",
    "raw.head()"
   ]
  },
  {
   "cell_type": "markdown",
   "id": "612ef2f0",
   "metadata": {},
   "source": [
    "### 1.1.2 Handle Missing Values"
   ]
  },
  {
   "cell_type": "code",
   "execution_count": null,
   "id": "3ae180fd",
   "metadata": {},
   "outputs": [],
   "source": [
    "mv = raw.isna().sum()\n",
    "print('Missing values before fill:\\n', mv)\n",
    "\n",
    "# Forward fill within each symbol on numeric cols\n",
    "num_cols = ['Open','High','Low','Close','Adj Close','Volume']\n",
    "raw[num_cols] = raw.groupby('Symbol')[num_cols].apply(lambda g: g.ffill().bfill()).values\n",
    "\n",
    "mv_after = raw.isna().sum()\n",
    "print('\\nMissing values after fill:\\n', mv_after)"
   ]
  },
  {
   "cell_type": "markdown",
   "id": "852f6563",
   "metadata": {},
   "source": [
    "## 1.2 Analysis and Visualisation"
   ]
  },
  {
   "cell_type": "code",
   "execution_count": null,
   "id": "70ddc950",
   "metadata": {},
   "outputs": [],
   "source": [
    "# Plot closing prices per symbol\n",
    "for sym, g in raw.groupby('Symbol'):\n",
    "    plt.figure()\n",
    "    plt.plot(g['Date'], g['Close'])\n",
    "    plt.title(f'{sym} Closing Price')\n",
    "    plt.xlabel('Date'); plt.ylabel('Close')\n",
    "    plt.show()\n",
    "\n",
    "# Plot volumes per symbol\n",
    "for sym, g in raw.groupby('Symbol'):\n",
    "    plt.figure()\n",
    "    plt.plot(g['Date'], g['Volume'])\n",
    "    plt.title(f'{sym} Volume')\n",
    "    plt.xlabel('Date'); plt.ylabel('Volume')\n",
    "    plt.show()"
   ]
  },
  {
   "cell_type": "markdown",
   "id": "0437102d",
   "metadata": {},
   "source": [
    "## 1.3 Data Processing"
   ]
  },
  {
   "cell_type": "code",
   "execution_count": null,
   "id": "24f82fe9",
   "metadata": {},
   "outputs": [],
   "source": [
    "# We'll create supervised windows per symbol on Closing price only\n",
    "def make_windows(series, window=20, horizon=1):\n",
    "    X, y = [], []\n",
    "    for i in range(len(series) - window - horizon + 1):\n",
    "        X.append(series[i:i+window])\n",
    "        y.append(series[i+window:i+window+horizon])\n",
    "    return np.array(X), np.array(y).squeeze()\n",
    "\n",
    "WINDOW = 20\n",
    "H = 1\n",
    "\n",
    "data_by_sym = {}\n",
    "for sym, g in raw.groupby('Symbol'):\n",
    "    close = g['Close'].astype(float).values\n",
    "    X, y = make_windows(close, WINDOW, H)\n",
    "    data_by_sym[sym] = {'X': X, 'y': y, 'dates': g['Date'].values}\n",
    "\n",
    "{ k: (v['X'].shape, v['y'].shape) for k,v in data_by_sym.items() }"
   ]
  },
  {
   "cell_type": "code",
   "execution_count": null,
   "id": "0d5e9a04",
   "metadata": {},
   "outputs": [],
   "source": [
    "def train_val_test_split(X, y, train=0.7, val=0.15):\n",
    "    n = len(X)\n",
    "    n_train = int(n*train)\n",
    "    n_val = int(n*val)\n",
    "    X_train, y_train = X[:n_train], y[:n_train]\n",
    "    X_val,   y_val   = X[n_train:n_train+n_val], y[n_train:n_train+n_val]\n",
    "    X_test,  y_test  = X[n_train+n_val:], y[n_train+n_val:]\n",
    "    return (X_train, y_train), (X_val, y_val), (X_test, y_test)\n",
    "\n",
    "splits = {sym: train_val_test_split(d['X'], d['y']) for sym,d in data_by_sym.items()}\n",
    "{k: tuple(s[0].shape for s in v) for k,v in splits.items()}"
   ]
  },
  {
   "cell_type": "markdown",
   "id": "11ebedfa",
   "metadata": {},
   "source": [
    "## 2. Baseline Models"
   ]
  },
  {
   "cell_type": "code",
   "execution_count": null,
   "id": "a2e72501",
   "metadata": {},
   "outputs": [],
   "source": [
    "from math import sqrt\n",
    "\n",
    "def metrics(y_true, y_pred):\n",
    "    y_true = np.asarray(y_true).reshape(-1)\n",
    "    y_pred = np.asarray(y_pred).reshape(-1)\n",
    "    mae = np.mean(np.abs(y_true - y_pred))\n",
    "    rmse = sqrt(np.mean((y_true - y_pred)**2))\n",
    "    mape = np.mean(np.abs((y_true - y_pred) / (y_true + 1e-8))) * 100\n",
    "    return {'MAE': mae, 'RMSE': rmse, 'MAPE_%': mape}\n",
    "\n",
    "def naive_last(X):\n",
    "    return X[:, -1]\n",
    "\n",
    "results = {}\n",
    "for sym, ((Xtr,ytr),(Xv,yv),(Xte,yte)) in splits.items():\n",
    "    yhat = naive_last(Xte)\n",
    "    results[sym] = metrics(yte, yhat)\n",
    "\n",
    "results"
   ]
  },
  {
   "cell_type": "code",
   "execution_count": null,
   "id": "160fb08f",
   "metadata": {},
   "outputs": [],
   "source": [
    "# Linear Regression (no external libs)\n",
    "def fit_linreg(X, y):\n",
    "    # add bias\n",
    "    Xb = np.c_[np.ones((X.shape[0],1)), X]\n",
    "    # normal equation\n",
    "    theta = np.linalg.pinv(Xb.T @ Xb) @ (Xb.T @ y.reshape(-1,1))\n",
    "    return theta\n",
    "\n",
    "def predict_linreg(theta, X):\n",
    "    Xb = np.c_[np.ones((X.shape[0],1)), X]\n",
    "    return (Xb @ theta).ravel()\n",
    "\n",
    "linreg_results = {}\n",
    "for sym, ((Xtr,ytr),(Xv,yv),(Xte,yte)) in splits.items():\n",
    "    theta = fit_linreg(Xtr, ytr)\n",
    "    yhat = predict_linreg(theta, Xte)\n",
    "    linreg_results[sym] = metrics(yte, yhat)\n",
    "\n",
    "linreg_results"
   ]
  },
  {
   "cell_type": "markdown",
   "id": "7d372e3a",
   "metadata": {},
   "source": [
    "## 3. RNN Model (LSTM) — Template"
   ]
  },
  {
   "cell_type": "code",
   "execution_count": null,
   "id": "00ea554e",
   "metadata": {},
   "outputs": [],
   "source": [
    "# This block requires TensorFlow/Keras. If not installed, skip running it.\n",
    "try:\n",
    "    import tensorflow as tf\n",
    "    from tensorflow import keras\n",
    "    from tensorflow.keras import layers\n",
    "\n",
    "    lstm_histories = {}\n",
    "    lstm_results = {}\n",
    "\n",
    "    EPOCHS = 10\n",
    "    BATCH = 32\n",
    "\n",
    "    for sym, ((Xtr,ytr),(Xv,yv),(Xte,yte)) in splits.items():\n",
    "        # reshape to (samples, timesteps, features)\n",
    "        Xtr_r = Xtr[..., None]\n",
    "        Xv_r  = Xv[..., None]\n",
    "        Xte_r = Xte[..., None]\n",
    "\n",
    "        model = keras.Sequential([\n",
    "            layers.Input(shape=(Xtr_r.shape[1], 1)),\n",
    "            layers.LSTM(64, return_sequences=False),\n",
    "            layers.Dense(1)\n",
    "        ])\n",
    "        model.compile(optimizer='adam', loss='mse', metrics=['mae'])\n",
    "\n",
    "        h = model.fit(Xtr_r, ytr, validation_data=(Xv_r, yv), epochs=EPOCHS, batch_size=BATCH, verbose=0)\n",
    "        lstm_histories[sym] = h.history\n",
    "\n",
    "        yhat = model.predict(Xte_r, verbose=0).ravel()\n",
    "        lstm_results[sym] = metrics(yte, yhat)\n",
    "\n",
    "    print('LSTM results:', lstm_results)\n",
    "except Exception as e:\n",
    "    print('TensorFlow not available or training failed:', e)"
   ]
  },
  {
   "cell_type": "markdown",
   "id": "f37bbad2",
   "metadata": {},
   "source": [
    "## 4. Evaluation Summary"
   ]
  },
  {
   "cell_type": "code",
   "execution_count": null,
   "id": "0fe6b875",
   "metadata": {},
   "outputs": [],
   "source": [
    "import pandas as pd\n",
    "baseline_df = pd.DataFrame(results).T\n",
    "linreg_df = pd.DataFrame(linreg_results).T\n",
    "\n",
    "summary = baseline_df.join(linreg_df, lsuffix='_Naive', rsuffix='_LinReg')\n",
    "summary"
   ]
  }
 ],
 "metadata": {},
 "nbformat": 4,
 "nbformat_minor": 5
}
